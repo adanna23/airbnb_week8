{
 "cells": [
  {
   "cell_type": "markdown",
   "metadata": {},
   "source": [
    "# Data Science Visualization - Matplotlib"
   ]
  },
  {
   "cell_type": "markdown",
   "metadata": {},
   "source": [
    "## Tasks Today:\n",
    "\n",
    "1) <b>Matplotlib</b> <br>\n",
    " &nbsp;&nbsp;&nbsp;&nbsp; a) Data Visulation <br>\n",
    " &nbsp;&nbsp;&nbsp;&nbsp;&nbsp;&nbsp;&nbsp;&nbsp; - Importing <br>\n",
    " &nbsp;&nbsp;&nbsp;&nbsp; b) Different Types of Charts <br>\n",
    " &nbsp;&nbsp;&nbsp;&nbsp; c) Basics <br>\n",
    " &nbsp;&nbsp;&nbsp;&nbsp; d) Customization <br>\n",
    " &nbsp;&nbsp;&nbsp;&nbsp;&nbsp;&nbsp;&nbsp;&nbsp; - Axis Labels & Line Marks <br>\n",
    " &nbsp;&nbsp;&nbsp;&nbsp;&nbsp;&nbsp;&nbsp;&nbsp; - Legend & Line Labels <br>\n",
    " &nbsp;&nbsp;&nbsp;&nbsp; e) Subplots <br>\n",
    " &nbsp;&nbsp;&nbsp;&nbsp; f) <b>In-Class Exercise #1</b> <br>\n",
    " &nbsp;&nbsp;&nbsp;&nbsp; g) Presentation Worthiness <br>\n",
    " &nbsp;&nbsp;&nbsp;&nbsp; h) <b>In-Class Exercise #2</b> <br>\n",
    " &nbsp;&nbsp;&nbsp;&nbsp; i) Box Plot <br>\n",
    " &nbsp;&nbsp;&nbsp;&nbsp; j) Scatter Plot <br>\n",
    " &nbsp;&nbsp;&nbsp;&nbsp; k) Histograms <br>"
   ]
  },
  {
   "cell_type": "markdown",
   "metadata": {},
   "source": [
    "### Data Visualization <br>\n",
    "<p>Data visualization is one of the most powerful tools an analyst has for two main reasons. Firstly, it is unrivalled in it's ability to guide the analysts hand in determining 'what to look at next'. Often a visual is revealing of patterns in the data that are not easily discernable by just looking at dataframes. Secondly, they are an analysts greatest communication tool. Very often professional analysts need to present their results to groups of people responsible for taking action based on what the data says. Visuals can tell your story much better then raw numbers, so let's talk a little bit about how to make effective visuals that make a point.</p>"
   ]
  },
  {
   "cell_type": "markdown",
   "metadata": {},
   "source": [
    "##### Importing"
   ]
  },
  {
   "cell_type": "code",
   "execution_count": 1,
   "metadata": {},
   "outputs": [
    {
     "name": "stdout",
     "output_type": "stream",
     "text": [
      "Requirement already satisfied: matplotlib in /Users/chinomnsoeleje/opt/anaconda3/lib/python3.8/site-packages (3.4.1)\n",
      "Requirement already satisfied: kiwisolver>=1.0.1 in /Users/chinomnsoeleje/opt/anaconda3/lib/python3.8/site-packages (from matplotlib) (1.3.1)\n",
      "Requirement already satisfied: cycler>=0.10 in /Users/chinomnsoeleje/opt/anaconda3/lib/python3.8/site-packages (from matplotlib) (0.10.0)\n",
      "Requirement already satisfied: pyparsing>=2.2.1 in /Users/chinomnsoeleje/opt/anaconda3/lib/python3.8/site-packages (from matplotlib) (2.4.7)\n",
      "Requirement already satisfied: pillow>=6.2.0 in /Users/chinomnsoeleje/opt/anaconda3/lib/python3.8/site-packages (from matplotlib) (8.2.0)\n",
      "Requirement already satisfied: python-dateutil>=2.7 in /Users/chinomnsoeleje/opt/anaconda3/lib/python3.8/site-packages (from matplotlib) (2.8.1)\n",
      "Requirement already satisfied: numpy>=1.16 in /Users/chinomnsoeleje/opt/anaconda3/lib/python3.8/site-packages (from matplotlib) (1.20.2)\n",
      "Requirement already satisfied: six in /Users/chinomnsoeleje/opt/anaconda3/lib/python3.8/site-packages (from cycler>=0.10->matplotlib) (1.15.0)\n"
     ]
    }
   ],
   "source": [
    "!pip install matplotlib"
   ]
  },
  {
   "cell_type": "code",
   "execution_count": 2,
   "metadata": {},
   "outputs": [],
   "source": [
    "import pandas as pd\n",
    "import numpy as np\n",
    "import matplotlib.pyplot as plt # standard"
   ]
  },
  {
   "cell_type": "markdown",
   "metadata": {},
   "source": [
    "### Different Types of Charts <br>\n",
    "<ul>\n",
    "    <li><b>Line Chart:</b> Exploring data over time</li>\n",
    "    <li><b>Bar Chart:</b> Comparing categories of data and tracks changes over time</li>\n",
    "    <li><b>Pie Chart:</b> Explore parts of a whole, i.e. fractions</li>\n",
    "    <li><b>Scatter Plot:</b> Similar to line charts, track correlations between two categories</li>\n",
    "    <li><b>Histogram:</b> Unrelated from bar charts, show distribution of variables</li>\n",
    "    <li><b>Candlestick Chart:</b> Used a lot in financial sector, i.e. can compare a stock over a period of time</li>\n",
    "    <li><b>Box Chart:</b> Looks identical to candlestick charts, compares minimum, 1st, medium, 3rd quartiles, and max values</li>\n",
    "</ul>\n",
    "\n",
    "<p>Depending on what you need to accomplish in conceptualizing your data, you will go with a specific type of chart to portray your data.</p>"
   ]
  },
  {
   "cell_type": "markdown",
   "metadata": {},
   "source": [
    "### Basics <br>\n",
    "<p>Plots can be as detailed as you'd like them to be, but the simplest plot to start with can be done in just a few lines:</p>"
   ]
  },
  {
   "cell_type": "code",
   "execution_count": null,
   "metadata": {
    "scrolled": true
   },
   "outputs": [],
   "source": []
  },
  {
   "cell_type": "markdown",
   "metadata": {},
   "source": [
    "### Customization <br>\n",
    "<p>There's many customizable options when using Matplotlib, such as; line types, colors, labels, figure size, etc. We'll go over a few of them here:</p>"
   ]
  },
  {
   "cell_type": "markdown",
   "metadata": {},
   "source": [
    "##### Axis Labels & Line Marks"
   ]
  },
  {
   "cell_type": "code",
   "execution_count": null,
   "metadata": {},
   "outputs": [],
   "source": []
  },
  {
   "cell_type": "markdown",
   "metadata": {},
   "source": [
    "##### Legend & Line Labels"
   ]
  },
  {
   "cell_type": "code",
   "execution_count": null,
   "metadata": {},
   "outputs": [],
   "source": []
  },
  {
   "cell_type": "markdown",
   "metadata": {},
   "source": [
    "### Subplots <br>\n",
    "<p>Using the subplots method, you're able to create multiple plots within a single cell.</p>"
   ]
  },
  {
   "cell_type": "code",
   "execution_count": null,
   "metadata": {},
   "outputs": [],
   "source": [
    "# first plot\n",
    "\n"
   ]
  },
  {
   "cell_type": "markdown",
   "metadata": {},
   "source": [
    "### In-Class Exercise #1 - Create a Graph that Depicts y = f(x)"
   ]
  },
  {
   "cell_type": "code",
   "execution_count": 4,
   "metadata": {},
   "outputs": [],
   "source": [
    "import numpy as np\n",
    "\n",
    "# use matplotlib to plot f(x)\n"
   ]
  },
  {
   "cell_type": "markdown",
   "metadata": {},
   "source": [
    "### Presentation Worthiness\n",
    "<p>Before we go into how to use this as a tool for data exploration, let's talk quickly about presentation-worthiness. In the next cell we're going to introduce customization of lines, colors, ticks, titles, fonts, and grids.</p>"
   ]
  },
  {
   "cell_type": "code",
   "execution_count": 3,
   "metadata": {},
   "outputs": [
    {
     "ename": "NameError",
     "evalue": "name 'x_axis' is not defined",
     "output_type": "error",
     "traceback": [
      "\u001b[0;31m---------------------------------------------------------------------------\u001b[0m",
      "\u001b[0;31mNameError\u001b[0m                                 Traceback (most recent call last)",
      "\u001b[0;32m<ipython-input-3-d4ef1f67f270>\u001b[0m in \u001b[0;36m<module>\u001b[0;34m\u001b[0m\n\u001b[1;32m      1\u001b[0m \u001b[0mfig\u001b[0m\u001b[0;34m,\u001b[0m \u001b[0max\u001b[0m \u001b[0;34m=\u001b[0m \u001b[0mplt\u001b[0m\u001b[0;34m.\u001b[0m\u001b[0msubplots\u001b[0m\u001b[0;34m(\u001b[0m\u001b[0mfigsize\u001b[0m \u001b[0;34m=\u001b[0m \u001b[0;34m(\u001b[0m\u001b[0;36m20\u001b[0m\u001b[0;34m,\u001b[0m \u001b[0;36m10\u001b[0m\u001b[0;34m)\u001b[0m\u001b[0;34m)\u001b[0m\u001b[0;34m\u001b[0m\u001b[0;34m\u001b[0m\u001b[0m\n\u001b[1;32m      2\u001b[0m \u001b[0;34m\u001b[0m\u001b[0m\n\u001b[0;32m----> 3\u001b[0;31m plt.plot(x_axis ** 2, y_axis ** 4,\n\u001b[0m\u001b[1;32m      4\u001b[0m         \u001b[0mlw\u001b[0m \u001b[0;34m=\u001b[0m \u001b[0;36m5\u001b[0m\u001b[0;34m,\u001b[0m \u001b[0;31m# Line Width\u001b[0m\u001b[0;34m\u001b[0m\u001b[0;34m\u001b[0m\u001b[0m\n\u001b[1;32m      5\u001b[0m         \u001b[0mls\u001b[0m \u001b[0;34m=\u001b[0m \u001b[0;34m'--'\u001b[0m\u001b[0;34m,\u001b[0m \u001b[0;31m# Line Style\u001b[0m\u001b[0;34m\u001b[0m\u001b[0;34m\u001b[0m\u001b[0m\n",
      "\u001b[0;31mNameError\u001b[0m: name 'x_axis' is not defined"
     ]
    },
    {
     "data": {
      "image/png": "[encoded data removed]",
      "text/plain": [
       "<Figure size 1440x720 with 1 Axes>"
      ]
     },
     "metadata": {
      "needs_background": "light"
     },
     "output_type": "display_data"
    }
   ],
   "source": [
    "fig, ax = plt.subplots(figsize = (20, 10))\n",
    "\n",
    "plt.plot(x_axis ** 2, y_axis ** 4,\n",
    "        lw = 5, # Line Width\n",
    "        ls = '--', # Line Style\n",
    "        color = 'r', # Line Color\n",
    "        marker = \"*\", #Pointer Marker\n",
    "        markersize = 15, # Marker size\n",
    "        markerfacecolor = 'b', # Marker Color\n",
    "        label = 'Data'\n",
    "        )\n",
    "\n",
    "plt.xlabel(r'$x$ Value', fontname = 'Times New Roman', fontsize = 32)\n",
    "plt.ylabel(r'$y$ Value', fontname = 'Times New Roman', fontsize = 32)\n",
    "\n",
    "plt.xticks(fontsize = 28)\n",
    "plt.yticks(fontsize = 28)\n",
    "\n",
    "plt.title('Quadratic Equation Visual', fontname = \"Times New Roman\", fontsize = 40, y = 1.05)\n",
    "\n",
    "plt.grid(True)\n",
    "\n",
    "plt.legend(loc = 'upper left', fontsize = 40)\n",
    "\n",
    "plt.tight_layout()\n"
   ]
  },
  {
   "cell_type": "markdown",
   "metadata": {},
   "source": [
    "<p>It's sometimes nice to obsess a little bit over how your plots look. It's good practice paying attention to detail and it has huge payoff when you end up presenting your findings to other analysts and business parteners. Here's a more complex example of using the matplotlib api:</p>"
   ]
  },
  {
   "cell_type": "code",
   "execution_count": 5,
   "metadata": {},
   "outputs": [],
   "source": [
    "markers = ['o', 'v', '^', '*', 's']\n",
    "styles = ['-', '--', '-.', ':', '-']\n",
    "colors = ['#588C7E', '#F2E394', '#F2AE72', '#D96459', '#8C4646']"
   ]
  },
  {
   "cell_type": "code",
   "execution_count": 6,
   "metadata": {},
   "outputs": [
    {
     "data": {
      "image/png": "[encoded data removed]",
      "text/plain": [
       "<Figure size 432x288 with 1 Axes>"
      ]
     },
     "metadata": {
      "needs_background": "light"
     },
     "output_type": "display_data"
    }
   ],
   "source": [
    "x = np.linspace(0, 10, 50)\n",
    "\n",
    "for i in range(5):\n",
    "    plt.plot(x, x ** i,\n",
    "            lw = 5,\n",
    "            ls = styles[i],\n",
    "            color = colors[i],\n",
    "            marker = markers[i],\n",
    "            markersize = 15,\n",
    "            markerfacecolor = colors[i],\n",
    "            label = r'$x^{%s}$' % i # f'{i}'\n",
    "            )\n",
    "    \n",
    "plt.xlim(0,10, 50)\n",
    "plt.ylim(0,100)\n",
    "\n",
    "plt.xlabel(r'$x$ Value', fontname = 'Times New Roman', fontsize = 32)\n",
    "plt.ylabel(f'y Value', fontname = 'Times New Roman', fontsize = 32)\n",
    "\n",
    "plt.xticks(fontsize = 28)\n",
    "plt.yticks(fontsize = 28)\n",
    "\n",
    "plt.title(r'$y = f(x) = x^2$', fontname = \"Times New Roman\", fontsize = 40, y = 1.05)\n",
    "\n",
    "plt.grid(True)\n",
    "\n",
    "plt.legend(loc = 'upper left', fontsize = 40)\n",
    "\n",
    "plt.tight_layout()\n",
    "\n"
   ]
  },
  {
   "cell_type": "markdown",
   "metadata": {},
   "source": [
    "### In-Class Exercise #2 - Customize the f(x) Plot Created Earlier <br>\n",
    "<p>Customize it however you would like...</p>"
   ]
  },
  {
   "cell_type": "code",
   "execution_count": null,
   "metadata": {},
   "outputs": [],
   "source": [
    "# students to do..."
   ]
  },
  {
   "cell_type": "markdown",
   "metadata": {},
   "source": [
    "### Scatter Plot"
   ]
  },
  {
   "cell_type": "code",
   "execution_count": null,
   "metadata": {},
   "outputs": [],
   "source": [
    "import csv\n",
    "from  itertools import groupby\n",
    "\n"
   ]
  },
  {
   "cell_type": "markdown",
   "metadata": {},
   "source": [
    "### Box Plot"
   ]
  },
  {
   "cell_type": "code",
   "execution_count": null,
   "metadata": {},
   "outputs": [],
   "source": [
    "from itertools import groupby\n",
    "\n"
   ]
  },
  {
   "cell_type": "markdown",
   "metadata": {},
   "source": [
    "### Histograms <br>\n",
    "<p>While line plots are great for visualizing trends in time series data, histograms are the king of visualizing distributions. Often, the distribution of a variable is what you're interested in, and a visualization provides a lot more information than a group of summary statistics.</p>"
   ]
  },
  {
   "cell_type": "code",
   "execution_count": 7,
   "metadata": {},
   "outputs": [
    {
     "data": {
      "image/png": "[encoded data removed]",
      "text/plain": [
       "<Figure size 1152x648 with 1 Axes>"
      ]
     },
     "metadata": {
      "needs_background": "light"
     },
     "output_type": "display_data"
    }
   ],
   "source": [
    "fig, ax = plt.subplots(figsize=(16, 9)) #Subplots makes a call in the background to create a plot area\n",
    "\n",
    "# generate random data\n",
    "data = np.random.uniform(0,10,100)\n"
   ]
  },
  {
   "cell_type": "markdown",
   "metadata": {},
   "source": [
    "<p>Let's take a look at a mystery/randomly generated DataFrame, and plot the results</p>"
   ]
  },
  {
   "cell_type": "code",
   "execution_count": 8,
   "metadata": {},
   "outputs": [
    {
     "data": {
      "text/html": [
       "<div>\n",
       "<style scoped>\n",
       "    .dataframe tbody tr th:only-of-type {\n",
       "        vertical-align: middle;\n",
       "    }\n",
       "\n",
       "    .dataframe tbody tr th {\n",
       "        vertical-align: top;\n",
       "    }\n",
       "\n",
       "    .dataframe thead th {\n",
       "        text-align: right;\n",
       "    }\n",
       "</style>\n",
       "<table border=\"1\" class=\"dataframe\">\n",
       "  <thead>\n",
       "    <tr style=\"text-align: right;\">\n",
       "      <th></th>\n",
       "      <th>customer_id</th>\n",
       "      <th>ages</th>\n",
       "      <th>state</th>\n",
       "    </tr>\n",
       "  </thead>\n",
       "  <tbody>\n",
       "    <tr>\n",
       "      <th>0</th>\n",
       "      <td>1077</td>\n",
       "      <td>6.414912</td>\n",
       "      <td>Colorado</td>\n",
       "    </tr>\n",
       "    <tr>\n",
       "      <th>1</th>\n",
       "      <td>1095</td>\n",
       "      <td>29.610102</td>\n",
       "      <td>Colorado</td>\n",
       "    </tr>\n",
       "    <tr>\n",
       "      <th>2</th>\n",
       "      <td>1038</td>\n",
       "      <td>45.554301</td>\n",
       "      <td>Colorado</td>\n",
       "    </tr>\n",
       "    <tr>\n",
       "      <th>3</th>\n",
       "      <td>1104</td>\n",
       "      <td>13.243271</td>\n",
       "      <td>California</td>\n",
       "    </tr>\n",
       "    <tr>\n",
       "      <th>4</th>\n",
       "      <td>1008</td>\n",
       "      <td>4.834152</td>\n",
       "      <td>California</td>\n",
       "    </tr>\n",
       "    <tr>\n",
       "      <th>5</th>\n",
       "      <td>1018</td>\n",
       "      <td>46.570528</td>\n",
       "      <td>California</td>\n",
       "    </tr>\n",
       "    <tr>\n",
       "      <th>6</th>\n",
       "      <td>1116</td>\n",
       "      <td>26.595238</td>\n",
       "      <td>Colorado</td>\n",
       "    </tr>\n",
       "    <tr>\n",
       "      <th>7</th>\n",
       "      <td>1098</td>\n",
       "      <td>16.112730</td>\n",
       "      <td>Colorado</td>\n",
       "    </tr>\n",
       "    <tr>\n",
       "      <th>8</th>\n",
       "      <td>1021</td>\n",
       "      <td>24.629634</td>\n",
       "      <td>California</td>\n",
       "    </tr>\n",
       "    <tr>\n",
       "      <th>9</th>\n",
       "      <td>1066</td>\n",
       "      <td>51.562821</td>\n",
       "      <td>California</td>\n",
       "    </tr>\n",
       "    <tr>\n",
       "      <th>10</th>\n",
       "      <td>1142</td>\n",
       "      <td>57.526247</td>\n",
       "      <td>California</td>\n",
       "    </tr>\n",
       "    <tr>\n",
       "      <th>11</th>\n",
       "      <td>1102</td>\n",
       "      <td>2.725401</td>\n",
       "      <td>California</td>\n",
       "    </tr>\n",
       "    <tr>\n",
       "      <th>12</th>\n",
       "      <td>1189</td>\n",
       "      <td>32.809693</td>\n",
       "      <td>Colorado</td>\n",
       "    </tr>\n",
       "    <tr>\n",
       "      <th>13</th>\n",
       "      <td>1156</td>\n",
       "      <td>8.138392</td>\n",
       "      <td>California</td>\n",
       "    </tr>\n",
       "    <tr>\n",
       "      <th>14</th>\n",
       "      <td>1165</td>\n",
       "      <td>42.430303</td>\n",
       "      <td>California</td>\n",
       "    </tr>\n",
       "    <tr>\n",
       "      <th>15</th>\n",
       "      <td>1033</td>\n",
       "      <td>55.127245</td>\n",
       "      <td>California</td>\n",
       "    </tr>\n",
       "    <tr>\n",
       "      <th>16</th>\n",
       "      <td>1153</td>\n",
       "      <td>20.620222</td>\n",
       "      <td>California</td>\n",
       "    </tr>\n",
       "    <tr>\n",
       "      <th>17</th>\n",
       "      <td>1045</td>\n",
       "      <td>18.896062</td>\n",
       "      <td>Colorado</td>\n",
       "    </tr>\n",
       "    <tr>\n",
       "      <th>18</th>\n",
       "      <td>1102</td>\n",
       "      <td>89.447188</td>\n",
       "      <td>California</td>\n",
       "    </tr>\n",
       "    <tr>\n",
       "      <th>19</th>\n",
       "      <td>1133</td>\n",
       "      <td>14.515828</td>\n",
       "      <td>California</td>\n",
       "    </tr>\n",
       "  </tbody>\n",
       "</table>\n",
       "</div>"
      ],
      "text/plain": [
       "    customer_id       ages       state\n",
       "0          1077   6.414912    Colorado\n",
       "1          1095  29.610102    Colorado\n",
       "2          1038  45.554301    Colorado\n",
       "3          1104  13.243271  California\n",
       "4          1008   4.834152  California\n",
       "5          1018  46.570528  California\n",
       "6          1116  26.595238    Colorado\n",
       "7          1098  16.112730    Colorado\n",
       "8          1021  24.629634  California\n",
       "9          1066  51.562821  California\n",
       "10         1142  57.526247  California\n",
       "11         1102   2.725401  California\n",
       "12         1189  32.809693    Colorado\n",
       "13         1156   8.138392  California\n",
       "14         1165  42.430303  California\n",
       "15         1033  55.127245  California\n",
       "16         1153  20.620222  California\n",
       "17         1045  18.896062    Colorado\n",
       "18         1102  89.447188  California\n",
       "19         1133  14.515828  California"
      ]
     },
     "execution_count": 8,
     "metadata": {},
     "output_type": "execute_result"
    }
   ],
   "source": [
    "import pandas as pd\n",
    "import numpy as np\n",
    "\n",
    "def make_mystery_dataframe():\n",
    "    customer_id = np.random.randint(1000,1200,10000)\n",
    "    \n",
    "    states = {1: 'California', 0: 'Colorado'}\n",
    "    statelist = []\n",
    "    agelist = []\n",
    "    \n",
    "    for i in range(10000):\n",
    "        ind = np.random.randint(0,2)\n",
    "        if ind == 0:\n",
    "            statelist.append(states[ind])\n",
    "            agelist.append(np.random.normal(loc = 30, scale = 10))\n",
    "        elif ind == 1:\n",
    "            statelist.append(states[ind])\n",
    "            agelist.append(np.random.normal(loc = 40, scale = 20))\n",
    "    \n",
    "    mystery_df = pd.DataFrame.from_dict({\n",
    "        'customer_id': customer_id,\n",
    "        'ages':agelist,\n",
    "        'state': statelist\n",
    "    })\n",
    "    \n",
    "    return mystery_df\n",
    "\n",
    "df = make_mystery_dataframe()\n",
    "df.head(20)\n"
   ]
  },
  {
   "cell_type": "code",
   "execution_count": 9,
   "metadata": {},
   "outputs": [
    {
     "data": {
      "image/png": "[encoded data removed]",
      "text/plain": [
       "<Figure size 1440x720 with 2 Axes>"
      ]
     },
     "metadata": {
      "needs_background": "light"
     },
     "output_type": "display_data"
    }
   ],
   "source": [
    "fig, (ax1, ax2) = plt.subplots(1, 2, figsize=(20, 10))\n",
    "\n",
    "\n"
   ]
  },
  {
   "cell_type": "code",
   "execution_count": null,
   "metadata": {},
   "outputs": [],
   "source": []
  }
 ],
 "metadata": {
  "kernelspec": {
   "display_name": "Python 3",
   "language": "python",
   "name": "python3"
  },
  "language_info": {
   "codemirror_mode": {
    "name": "ipython",
    "version": 3
   },
   "file_extension": ".py",
   "mimetype": "text/x-python",
   "name": "python",
   "nbconvert_exporter": "python",
   "pygments_lexer": "ipython3",
   "version": "3.8.5"
  }
 },
 "nbformat": 4,
 "nbformat_minor": 2
}
